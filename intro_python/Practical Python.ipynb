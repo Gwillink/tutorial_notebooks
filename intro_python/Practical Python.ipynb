{
 "metadata": {
  "name": "Practical Python"
 },
 "nbformat": 3,
 "nbformat_minor": 0,
 "worksheets": [
  {
   "cells": [
    {
     "cell_type": "markdown",
     "metadata": {},
     "source": [
      "#Partical Python\n",
      "\n",
      "We want to show how in one workshop we could develop something useful and complex with Python\n",
      "\n",
      "## The Goal: Automate the calculation of a class of students\n",
      "* Calculate the grade for each student. That means that we will exam different grading methods.\n",
      "* Automate the grade calculation.\n",
      "* Calculate the total grade for a single student\n",
      "* Calculate the total grade for the entier class\n",
      "* Save and print out the results.\n",
      "\n",
      "## Chapter I: Calculating grades\n",
      "\n",
      "To calculate a student's grade, we will need to learn how to do simple arithitics:\n",
      "\n",
      "1. Addition\n",
      "2. Substraction\n",
      "3. Multiplication\n",
      "4. Division\n",
      "\n",
      "**So let do some math!**"
     ]
    },
    {
     "cell_type": "code",
     "collapsed": false,
     "input": [],
     "language": "python",
     "metadata": {},
     "outputs": [],
     "prompt_number": 35
    },
    {
     "cell_type": "markdown",
     "metadata": {},
     "source": [
      "Now we know how to do math. We want to store the value somewhere."
     ]
    },
    {
     "cell_type": "code",
     "collapsed": false,
     "input": [],
     "language": "python",
     "metadata": {},
     "outputs": []
    },
    {
     "cell_type": "code",
     "collapsed": false,
     "input": [],
     "language": "python",
     "metadata": {},
     "outputs": []
    }
   ],
   "metadata": {}
  }
 ]
}