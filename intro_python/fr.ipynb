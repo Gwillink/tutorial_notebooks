{
 "metadata": {
  "name": "en"
 },
 "nbformat": 3,
 "nbformat_minor": 0,
 "worksheets": [
  {
   "cells": [
    {
     "cell_type": "heading",
     "level": 1,
     "metadata": {},
     "source": [
      "Introduction to programming with Python"
     ]
    },
    {
     "cell_type": "markdown",
     "metadata": {},
     "source": [
      "# Introduction\n",
      "## Objectives :\n",
      "- to code in the interpretor and explore the basics of the language\n",
      "- to write a script that we'll run in the interpretor\n",
      "\n",
      "## Useful Links\n",
      "- [Documentation](http://www.python.org/doc/)\n",
      "- [Tutorial](http://docs.python.org/tutorial/)\n",
      "- [Library Documentation](http://docs.python.org/library/)\n",
      "\n",
      "## Environment\n",
      "- text editor\n",
      "- python interpretor : python, ipython"
     ]
    },
    {
     "cell_type": "markdown",
     "metadata": {},
     "source": [
      "# Basic Notation\n",
      "\n",
      "## Syntax\n",
      "\n",
      "- comment \\#\n",
      "- variables : without $\n",
      "- instructions : without ;\n",
      "- blocs : without {}\n",
      "- style : PEP 8 http://www.python.org/dev/peps/pep-0008/\n",
      "- line break : \\\n"
     ]
    },
    {
     "cell_type": "markdown",
     "metadata": {},
     "source": [
      "##Variables\n",
      "\n",
      "name, value, reference\n"
     ]
    },
    {
     "cell_type": "code",
     "collapsed": false,
     "input": [
      "a = 12\n",
      "b = a"
     ],
     "language": "python",
     "metadata": {},
     "outputs": [],
     "prompt_number": 8
    },
    {
     "cell_type": "code",
     "collapsed": false,
     "input": [
      "id(a)"
     ],
     "language": "python",
     "metadata": {},
     "outputs": [
      {
       "output_type": "pyout",
       "prompt_number": 9,
       "text": [
        "29533936"
       ]
      }
     ],
     "prompt_number": 9
    },
    {
     "cell_type": "code",
     "collapsed": false,
     "input": [
      "id(b)"
     ],
     "language": "python",
     "metadata": {},
     "outputs": [
      {
       "output_type": "pyout",
       "prompt_number": 5,
       "text": [
        "29533936"
       ]
      }
     ],
     "prompt_number": 5
    },
    {
     "cell_type": "markdown",
     "metadata": {},
     "source": [
      "dynamic typing (no need to declare)"
     ]
    },
    {
     "cell_type": "code",
     "collapsed": false,
     "input": [
      "n = None        # NoneType : special type meaning... nothing\n",
      "b = True        # bool : boolean... True or False don't forget the capital letter\n",
      "\n",
      "i = 15          # int : integer\n",
      "f = 15.5        # float : decimal\n",
      "\n",
      "s = \"string\"    # str : string, instanciated with \"\" or ''\n",
      "u = u\"cha\u00eene\"   # unicode : unicode string, instanciated with u\"\" or u''\n",
      "\n",
      "l = []          # list : list of objects (ordered)\n",
      "t = ()          # tuple : immutable list of objects\n",
      "d = {}          # dict : dictionnary of data (unique, unordered)\n",
      "\n",
      "ens = set([])   # set : set (unique, unordered)"
     ],
     "language": "python",
     "metadata": {},
     "outputs": [],
     "prompt_number": 8
    },
    {
     "cell_type": "code",
     "collapsed": false,
     "input": [
      "a, b = 34, 56\n"
     ],
     "language": "python",
     "metadata": {},
     "outputs": [],
     "prompt_number": 10
    },
    {
     "cell_type": "code",
     "collapsed": false,
     "input": [
      "a"
     ],
     "language": "python",
     "metadata": {},
     "outputs": [
      {
       "output_type": "pyout",
       "prompt_number": 39,
       "text": [
        "34"
       ]
      }
     ],
     "prompt_number": 39
    },
    {
     "cell_type": "code",
     "collapsed": false,
     "input": [
      "b"
     ],
     "language": "python",
     "metadata": {},
     "outputs": [
      {
       "output_type": "pyout",
       "prompt_number": 12,
       "text": [
        "56"
       ]
      }
     ],
     "prompt_number": 12
    },
    {
     "cell_type": "markdown",
     "metadata": {},
     "source": [
      "strongly typed (no implicit type conversion)\n",
      "\n",
      "casting: str(), int(), float(), bool(), list(), tuple(), dict(), set()"
     ]
    },
    {
     "cell_type": "code",
     "collapsed": false,
     "input": [
      "float(a)"
     ],
     "language": "python",
     "metadata": {},
     "outputs": [
      {
       "output_type": "pyout",
       "prompt_number": 13,
       "text": [
        "34.0"
       ]
      }
     ],
     "prompt_number": 13
    },
    {
     "cell_type": "markdown",
     "metadata": {},
     "source": [
      "##Built-in : built-in functions and language's structure\n",
      "\n",
      "http://docs.python.org/library/functions.html"
     ]
    },
    {
     "cell_type": "code",
     "collapsed": false,
     "input": [
      "type()                  # returns the type of the object\n",
      "dir()                   # returns the names on the object\n",
      "help()                  # returns the help\n",
      "callable()              # tells if an object is callable, executable...\n",
      "\n",
      "bool(), int(), str()... # initialisation or casting\n",
      "getattr()\n",
      "isinstance(objet, Type) # tests the class (or type) of an object\n",
      "issubclass()\n",
      "super()\n",
      "len()\n",
      "min()\n",
      "max()\n",
      "open()\n",
      "range()\n",
      "raw_input()\n",
      "\n",
      "print\n",
      "del"
     ],
     "language": "python",
     "metadata": {},
     "outputs": []
    },
    {
     "cell_type": "markdown",
     "metadata": {},
     "source": [
      "##Objects and namespaces\n",
      "- objet.attribute\n",
      "- objet.method()\n",
      "- objet.attribute.method()"
     ]
    },
    {
     "cell_type": "markdown",
     "metadata": {},
     "source": [
      "##Introspection\n",
      "- variable. [+ tab]\n",
      "- variable?\n",
      "- type()\n",
      "- dir()\n",
      "- help()\n",
      "- exploration of types\n",
      "- concatenation : s1 + s2"
     ]
    },
    {
     "cell_type": "code",
     "collapsed": false,
     "input": [
      "name = \"Davin Baragiotta\" \n",
      "firstname, lastname = name.split()\n",
      "lastname.upper()\n",
      "lastname.lower()\n",
      "lastname.ljust(30)\n",
      "name = [firstname.lower(), lastname.lower()]\n",
      "name"
     ],
     "language": "python",
     "metadata": {},
     "outputs": [
      {
       "output_type": "pyout",
       "prompt_number": 27,
       "text": [
        "['davin', 'baragiotta']"
       ]
      }
     ],
     "prompt_number": 27
    },
    {
     "cell_type": "code",
     "collapsed": false,
     "input": [
      "username = \".\".join(name)\n",
      "username"
     ],
     "language": "python",
     "metadata": {},
     "outputs": [
      {
       "output_type": "pyout",
       "prompt_number": 26,
       "text": [
        "'davin.baragiotta'"
       ]
      }
     ],
     "prompt_number": 26
    },
    {
     "cell_type": "code",
     "collapsed": false,
     "input": [
      "name = \"Davin Baragiotta\" \n",
      "username = \".\".join(name.split()).lower()\n",
      "username"
     ],
     "language": "python",
     "metadata": {},
     "outputs": [
      {
       "output_type": "pyout",
       "prompt_number": 19,
       "text": [
        "'davin.baragiotta'"
       ]
      }
     ],
     "prompt_number": 19
    },
    {
     "cell_type": "code",
     "collapsed": false,
     "input": [
      "users = []\n",
      "users.append(username)\n",
      "users"
     ],
     "language": "python",
     "metadata": {},
     "outputs": [
      {
       "output_type": "pyout",
       "prompt_number": 24,
       "text": [
        "['davin.baragiotta']"
       ]
      }
     ],
     "prompt_number": 24
    },
    {
     "cell_type": "code",
     "collapsed": false,
     "input": [
      "davin = {'firstname':'Davin', 'lastname':'Baragiotta'}\n",
      "pascal = {'firstname':'Pascal', 'lastname':'Bou Nassar'}\n",
      "\n",
      "people = []\n",
      "people.append(davin)\n",
      "people.append(pascal)\n",
      "people"
     ],
     "language": "python",
     "metadata": {},
     "outputs": [
      {
       "output_type": "pyout",
       "prompt_number": 23,
       "text": [
        "[{'firstname': 'Davin', 'lastname': 'Baragiotta'},\n",
        " {'firstname': 'Pascal', 'lastname': 'Bou Nassar'}]"
       ]
      }
     ],
     "prompt_number": 23
    },
    {
     "cell_type": "code",
     "collapsed": false,
     "input": [
      "statuses = [\n",
      "    (1, u'New'),\n",
      "    (2, u'In progress'),\n",
      "    (3, u'Rejected'),\n",
      "    (4, u'Selected'),\n",
      "]"
     ],
     "language": "python",
     "metadata": {},
     "outputs": []
    },
    {
     "cell_type": "markdown",
     "metadata": {},
     "source": [
      "##Containers\n",
      "- Heterogenous types within containers"
     ]
    },
    {
     "cell_type": "code",
     "collapsed": false,
     "input": [
      "l = [[1,2,3],[4,'hello',6],[7,8,9]]\n",
      "d = {1611: {'lastname':'Baragiotta', 'firstname':'Davin'}, 123: {'lastname':'Bou Nassar', 'firstname':'Pascal'}}"
     ],
     "language": "python",
     "metadata": {},
     "outputs": [],
     "prompt_number": 30
    },
    {
     "cell_type": "markdown",
     "metadata": {},
     "source": [
      "Indexing"
     ]
    },
    {
     "cell_type": "code",
     "collapsed": false,
     "input": [
      "l[2]"
     ],
     "language": "python",
     "metadata": {},
     "outputs": [
      {
       "output_type": "pyout",
       "prompt_number": 35,
       "text": [
        "[7, 8, 9]"
       ]
      }
     ],
     "prompt_number": 35
    },
    {
     "cell_type": "code",
     "collapsed": false,
     "input": [
      "d[1611]"
     ],
     "language": "python",
     "metadata": {},
     "outputs": [
      {
       "output_type": "pyout",
       "prompt_number": 34,
       "text": [
        "{'firstname': 'Davin', 'lastname': 'Baragiotta'}"
       ]
      }
     ],
     "prompt_number": 34
    },
    {
     "cell_type": "markdown",
     "metadata": {},
     "source": [
      "Slicing"
     ]
    },
    {
     "cell_type": "code",
     "collapsed": false,
     "input": [
      "l[0:2]"
     ],
     "language": "python",
     "metadata": {},
     "outputs": [
      {
       "output_type": "pyout",
       "prompt_number": 36,
       "text": [
        "[[1, 2, 3], [4, 'hello', 6]]"
       ]
      }
     ],
     "prompt_number": 36
    },
    {
     "cell_type": "markdown",
     "metadata": {},
     "source": [
      "##Iteration\n",
      "while\n"
     ]
    },
    {
     "cell_type": "code",
     "collapsed": false,
     "input": [
      "year = 2012\n",
      "while year <= 2015:\n",
      "    print year\n",
      "    year = year + 1   # year += 1\n"
     ],
     "language": "python",
     "metadata": {},
     "outputs": [
      {
       "output_type": "stream",
       "stream": "stdout",
       "text": [
        "2012\n",
        "2013\n",
        "2014\n",
        "2015\n"
       ]
      }
     ],
     "prompt_number": 37
    },
    {
     "cell_type": "markdown",
     "metadata": {},
     "source": [
      "for"
     ]
    },
    {
     "cell_type": "code",
     "collapsed": false,
     "input": [
      "for year in range(2012, 2016):\n",
      "    print year"
     ],
     "language": "python",
     "metadata": {},
     "outputs": [
      {
       "output_type": "stream",
       "stream": "stdout",
       "text": [
        "2012\n",
        "2013\n",
        "2014\n",
        "2015\n"
       ]
      }
     ],
     "prompt_number": 40
    },
    {
     "cell_type": "markdown",
     "metadata": {},
     "source": [
      "##Comparisons and logic operators\n",
      "- false = False, 0, \"\", (), [], {}, None\n",
      "- and, or, not\n",
      "- < > <= >= == !=\n",
      "- x < y <= z\n",
      "- is, is not\n",
      "- in, not in"
     ]
    },
    {
     "cell_type": "markdown",
     "metadata": {},
     "source": [
      "##Conditionnal\n",
      "if, elif, else"
     ]
    },
    {
     "cell_type": "code",
     "collapsed": false,
     "input": [
      "numbers = range(6)\n",
      "if 5 in numbers:\n",
      "    print 'hourra 5'\n",
      "elif 4 in numbers:\n",
      "    print 'hourra 4'\n",
      "else:\n",
      "    print 'pas hourra'"
     ],
     "language": "python",
     "metadata": {},
     "outputs": [
      {
       "output_type": "stream",
       "stream": "stdout",
       "text": [
        "hourra 5\n"
       ]
      }
     ],
     "prompt_number": 45
    },
    {
     "cell_type": "markdown",
     "metadata": {},
     "source": [
      "##Files\n",
      "open, manipulate, close"
     ]
    },
    {
     "cell_type": "code",
     "collapsed": false,
     "input": [
      "f = open('text.txt')\n",
      "for line in f.readlines():\n",
      "    print line,\n",
      "f.close()"
     ],
     "language": "python",
     "metadata": {},
     "outputs": []
    },
    {
     "cell_type": "markdown",
     "metadata": {},
     "source": [
      "##String formatting\n",
      "substitution : %"
     ]
    },
    {
     "cell_type": "code",
     "collapsed": false,
     "input": [
      "for n in range(10):\n",
      "    print \"%d power 2 is : %d\" % (n, n**2)\n",
      "\n",
      "for p in people:\n",
      "    print \"Hello %s %s\" % (p['firstname'], p['lastname'].upper())"
     ],
     "language": "python",
     "metadata": {},
     "outputs": [],
     "prompt_number": "*"
    },
    {
     "cell_type": "markdown",
     "metadata": {},
     "source": [
      "##List comprehension\n",
      "creates a list from an iterable in a one-liner"
     ]
    },
    {
     "cell_type": "code",
     "collapsed": false,
     "input": [
      "target = 'Egypt'\n",
      "context = [line for line in f.readlines() if target in line]\n",
      "comments = [line for line in f.readlines() if line.startswith('#')]"
     ],
     "language": "python",
     "metadata": {},
     "outputs": [],
     "prompt_number": "*"
    },
    {
     "cell_type": "markdown",
     "metadata": {},
     "source": [
      "##Scripts"
     ]
    },
    {
     "cell_type": "code",
     "collapsed": false,
     "input": [
      "#! /usr/bin/env python\n",
      "# -*- encoding: utf-8 -*-\n",
      "\n",
      "def hello(name):\n",
      "    return u\"Hello %s!\" % (name,)\n",
      "\n",
      "if __name__ == '__main__':\n",
      "    print u\"--------------------------------------------------\" \n",
      "    print u\"START script\" \n",
      "    print u\"--------------------------------------------------\" \n",
      "    name = raw_input(\"What is your name? \")\n",
      "    print hello(name)\n",
      "    print u\"-----------------------------------------------\" \n",
      "    print u\"END script\" \n",
      "    print u\"-------------------------------------------------\" "
     ],
     "language": "python",
     "metadata": {},
     "outputs": [],
     "prompt_number": "*"
    },
    {
     "cell_type": "markdown",
     "metadata": {},
     "source": [
      "- shebang : #! /usr/bin/env python\n",
      "- encoding : # encoding: utf-8\n",
      "- if \\__name__ == '\\__main__':\n",
      "- raw_input()\n",
      "- create a project/contacts directory\n",
      "- create in this directory a Python script named form.py that :\n",
      "- asks the user its lastname, firstname and year of birth\n",
      "- salutes the user by printing its firstname plus its lastname in capital letters\n",
      "- execution ipython : run script\n",
      "- execution python : $ python script.py"
     ]
    },
    {
     "cell_type": "markdown",
     "metadata": {},
     "source": [
      "##Functions\n",
      "- naming convention\n",
      "- output : None by default\n",
      "- input : positional parameters, named parameters, *args, **kwargs\n",
      "- scope of variables"
     ]
    },
    {
     "cell_type": "code",
     "collapsed": false,
     "input": [
      "\n",
      "def age(year_birth):\n",
      "    return 2013 - year_birth\n",
      "\n",
      "def my_function(param1, param2, param3=None, param4=0, *args, **kwargs):\n",
      "    \"\"\"This is my function.\"\"\" \n",
      "    output = True\n",
      "    return output"
     ],
     "language": "python",
     "metadata": {},
     "outputs": [],
     "prompt_number": "*"
    },
    {
     "cell_type": "markdown",
     "metadata": {},
     "source": [
      "##Import\n",
      "- import module\n",
      "- from module import name\n",
      "- from module import name as my_name\n",
      "- built-in : no need to import\n",
      "- standard library (shipped with) : import without install\n",
      "- from datetime import datetime"
     ]
    },
    {
     "cell_type": "code",
     "collapsed": false,
     "input": [
      "from datetime import datetime\n",
      "date = datetime.now()\n",
      "date\n",
      "# year = ??"
     ],
     "language": "python",
     "metadata": {},
     "outputs": [
      {
       "output_type": "pyout",
       "prompt_number": 48,
       "text": [
        "datetime.datetime(2013, 1, 28, 20, 59, 20, 174306)"
       ]
      }
     ],
     "prompt_number": 48
    },
    {
     "cell_type": "markdown",
     "metadata": {},
     "source": [
      "packages : importable if installed in the path"
     ]
    },
    {
     "cell_type": "code",
     "collapsed": false,
     "input": [
      "import sys\n",
      "sys.path"
     ],
     "language": "python",
     "metadata": {},
     "outputs": [
      {
       "output_type": "pyout",
       "prompt_number": 46,
       "text": [
        "['',\n",
        " '/home/peris/notebook/local/lib/python2.7/site-packages/distribute-0.6.24-py2.7.egg',\n",
        " '/home/peris/notebook/local/lib/python2.7/site-packages/pip-1.1-py2.7.egg',\n",
        " '/home/peris/notebook/lib/python2.7/site-packages/distribute-0.6.24-py2.7.egg',\n",
        " '/home/peris/notebook/lib/python2.7/site-packages/pip-1.1-py2.7.egg',\n",
        " '/home/peris/notebook/lib/python2.7',\n",
        " '/home/peris/notebook/lib/python2.7/plat-linux2',\n",
        " '/home/peris/notebook/lib/python2.7/lib-tk',\n",
        " '/home/peris/notebook/lib/python2.7/lib-old',\n",
        " '/home/peris/notebook/lib/python2.7/lib-dynload',\n",
        " '/usr/lib/python2.7',\n",
        " '/usr/lib/python2.7/plat-linux2',\n",
        " '/usr/lib/python2.7/lib-tk',\n",
        " '/home/peris/notebook/local/lib/python2.7/site-packages',\n",
        " '/home/peris/notebook/lib/python2.7/site-packages',\n",
        " '/home/peris/notebook/local/lib/python2.7/site-packages/IPython/extensions']"
       ]
      }
     ],
     "prompt_number": 46
    },
    {
     "cell_type": "markdown",
     "metadata": {},
     "source": [
      "- in the directory project/contacts, create a Python script named lib.py\n",
      "- declare the function age in this script\n",
      "- in ipython,make sure you are in project/contacts then test the import of this function"
     ]
    },
    {
     "cell_type": "code",
     "collapsed": false,
     "input": [
      "import lib\n",
      "my_year_birth = 1975\n",
      "lib.age(my_year_birth)"
     ],
     "language": "python",
     "metadata": {},
     "outputs": []
    },
    {
     "cell_type": "markdown",
     "metadata": {},
     "source": [
      "improve form.py by giving to the user its age after the salute"
     ]
    },
    {
     "cell_type": "markdown",
     "metadata": {},
     "source": [
      "##Modules\n",
      "- \\__init__.py\n",
      "- \\__name__ : name of the module, name of the file if imported, '\\__ main __' if executed (useful for tests)\n",
      "- add a \\__init__.py file in the project/contacts directory to convert it in a module\n",
      "- create a tests.py file at the root of the projet/ directory (to create a test suite)\n",
      "- import the age function in tests.py to test it"
     ]
    },
    {
     "cell_type": "markdown",
     "metadata": {},
     "source": [
      "##Data persistence\n",
      "- files\n",
      "- serialisation : import pickle"
     ]
    },
    {
     "cell_type": "code",
     "collapsed": false,
     "input": [
      "statuses = [\n",
      "    (1, u'New'),\n",
      "    (2, u'In progress'),\n",
      "    (3, u'Rejected'),\n",
      "    (4, u'Selected'),\n",
      "]\n",
      "people = [{'firstname':'Davin', 'lastname':'Baragiotta'},\n",
      "          {'firstname':'Pascal', 'lastname':'Bou Nassar'}]\n",
      "import pickle\n",
      "\n",
      "f = open('pickles', 'w')\n",
      "pickle.dump(people, f)\n",
      "pickle.dump(statuses, f)\n",
      "f.close()"
     ],
     "language": "python",
     "metadata": {},
     "outputs": [],
     "prompt_number": 19
    },
    {
     "cell_type": "code",
     "collapsed": false,
     "input": [
      "f = open('pickles', 'rb')\n",
      "print pickle.load(f)\n",
      "print pickle.load(f)\n",
      "f.close()"
     ],
     "language": "python",
     "metadata": {},
     "outputs": [
      {
       "output_type": "stream",
       "stream": "stdout",
       "text": [
        "[{'lastname': 'Baragiotta', 'firstname': 'Davin'}, {'lastname': 'Bou Nassar', 'firstname': 'Pascal'}]\n",
        "[(1, u'New'), (2, u'In progress'), (3, u'Rejected'), (4, u'Selected')]\n"
       ]
      }
     ],
     "prompt_number": 21
    },
    {
     "cell_type": "markdown",
     "metadata": {},
     "source": [
      "- DB : sqlite3, mysqldb, psycopg2\n",
      "- ORM : sqlalchemy"
     ]
    },
    {
     "cell_type": "markdown",
     "metadata": {},
     "source": [
      "#EXERCICE\n",
      "##Objective\n",
      "To create a script feed.py in the projet/news directory that will return the \n",
      "5 last news (blog posts) displayed on Montr\u00e9al-Python website :\n",
      "http://montrealpython.org/feed/\n",
      "\n",
      "##Approach\n",
      "1. use python-feedparser\n",
      "- Ubuntu : sudo apt-get install python-feedparser\n",
      "2. launch the interpretor and follow the example in the doc :\n",
      "- ipython\n",
      "- http://packages.python.org/feedparser/\n",
      "3. introspect (and print the dictionnary to see its keys) at need\n",
      "4. code the script doing the desired treatment\n",
      "5. launch the script in the interpretor to confirm its correct execution\n",
      "6. serve cold\n",
      "\n",
      "##Algorithm\n",
      "1. catch the RSS feed of http://montrealpython.org\n",
      "2. keep the desired number of items\n",
      "3. treat the selected items :\n",
      "- create a unique string with the infos of the last modified items (title, URL... and eventually date of modification)\n",
      "\n",
      "##Solution\n",
      "Take time to code yourself a solution...\n",
      "... then compare it with : the solution http://montrealpython.org/r/projects/workshops/wiki/2012-10-30-Solution\n",
      "\n",
      "Hint: this Python solution is only 8 lines long."
     ]
    },
    {
     "cell_type": "markdown",
     "metadata": {},
     "source": [
      "#CONCLUSION\n",
      "- documentation + interactivity + introspection\n",
      "- scripts + modules\n",
      "- enjoy!"
     ]
    }
   ],
   "metadata": {}
  }
 ]
}