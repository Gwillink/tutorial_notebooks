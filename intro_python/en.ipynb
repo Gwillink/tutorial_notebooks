{
 "metadata": {
  "name": "Intro_to_Python"
 },
 "nbformat": 3,
 "nbformat_minor": 0,
 "worksheets": [
  {
   "cells": [
    {
     "cell_type": "heading",
     "level": 1,
     "metadata": {},
     "source": [
      "Introduction to programming with Python"
     ]
    },
    {
     "cell_type": "markdown",
     "metadata": {},
     "source": [
      "# Introduction\n",
      "## Objectives :\n",
      "- to code in the interpretor and explore the basics of the language\n",
      "- to write a script that we'll run in the interpretor\n",
      "\n",
      "## Useful Links\n",
      "- [Documentation](http://www.python.org/doc/)\n",
      "- [Tutorial](http://docs.python.org/tutorial/)\n",
      "- [Library Documentation](http://docs.python.org/library/)\n",
      "\n",
      "## Environment\n",
      "- text editor\n",
      "- python interpretor : python, ipython"
     ]
    },
    {
     "cell_type": "markdown",
     "metadata": {},
     "source": [
      "# Basic Notation\n",
      "\n",
      "## Syntax\n",
      "\n",
      "- comment \\#\n",
      "- hello "
     ]
    },
    {
     "cell_type": "code",
     "collapsed": false,
     "input": [
      "a = 12\n",
      "b = a"
     ],
     "language": "python",
     "metadata": {},
     "outputs": [],
     "prompt_number": 5
    },
    {
     "cell_type": "code",
     "collapsed": false,
     "input": [
      "id(a)"
     ],
     "language": "python",
     "metadata": {},
     "outputs": [
      {
       "output_type": "pyout",
       "prompt_number": 6,
       "text": [
        "19248880"
       ]
      }
     ],
     "prompt_number": 6
    },
    {
     "cell_type": "code",
     "collapsed": false,
     "input": [
      "id(b)"
     ],
     "language": "python",
     "metadata": {},
     "outputs": [
      {
       "output_type": "pyout",
       "prompt_number": 7,
       "text": [
        "19248880"
       ]
      }
     ],
     "prompt_number": 7
    },
    {
     "cell_type": "code",
     "collapsed": false,
     "input": [
      "n = None        # NoneType : special type meaning... nothing\n",
      "b = True        # bool : boolean... True or False don't forget the capital letter\n",
      "\n",
      "i = 15          # int : integer\n",
      "f = 15.5        # float : decimal\n",
      "\n",
      "s = \"string\"    # str : string, instanciated with \"\" or ''\n",
      "u = u\"cha\u00eene\"   # unicode : unicode string, instanciated with u\"\" or u''\n",
      "\n",
      "l = []          # list : list of objects (ordered)\n",
      "t = ()          # tuple : immutable list of objects\n",
      "d = {}          # dict : dictionnary of data (unique, unordered)\n",
      "\n",
      "ens = set([])   # set : set (unique, unordered)"
     ],
     "language": "python",
     "metadata": {},
     "outputs": [],
     "prompt_number": 8
    },
    {
     "cell_type": "code",
     "collapsed": false,
     "input": [],
     "language": "python",
     "metadata": {},
     "outputs": []
    }
   ],
   "metadata": {}
  }
 ]
}