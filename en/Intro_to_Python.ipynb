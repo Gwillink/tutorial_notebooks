{
 "metadata": {
  "name": "Untitled0"
 },
 "nbformat": 3,
 "nbformat_minor": 0,
 "worksheets": [
  {
   "cells": [
    {
     "cell_type": "heading",
     "level": 1,
     "metadata": {},
     "source": [
      "Introduction to programming with Python"
     ]
    },
    {
     "cell_type": "heading",
     "level": 2,
     "metadata": {},
     "source": [
      "Introduction"
     ]
    },
    {
     "cell_type": "markdown",
     "metadata": {},
     "source": [
      "Objectives :\n",
      "\n",
      "to code in the interpretor and explore the basics of the language to write a script that we'll run in the interpretor\n",
      "\n",
      "Documentation\n",
      "* http://www.python.org/doc/\n",
      "* http://docs.python.org/tutorial/\n",
      "* http://docs.python.org/library/\n",
      "\n",
      "Environment\n",
      "* text editor\n",
      "* python interpretor : python, ipython"
     ]
    },
    {
     "cell_type": "code",
     "collapsed": false,
     "input": [],
     "language": "python",
     "metadata": {},
     "outputs": [],
     "prompt_number": 2
    }
   ],
   "metadata": {}
  }
 ]
}