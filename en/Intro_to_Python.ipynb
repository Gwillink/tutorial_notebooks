{
 "metadata": {
  "name": "Introduction to programming with Python"
 },
 "nbformat": 3,
 "nbformat_minor": 0,
 "worksheets": [
  {
   "cells": [
    {
     "cell_type": "heading",
     "level": 1,
     "metadata": {},
     "source": [
      "Introduction to programming with Python"
     ]
    },
    {
     "cell_type": "heading",
     "level": 2,
     "metadata": {},
     "source": [
      "Introduction"
     ]
    },
    {
     "cell_type": "markdown",
     "metadata": {},
     "source": [
      "Objectives :\n",
      "\n",
      "to code in the interpreter and explore the basics of the language to write a script that we'll run in the interpreter\n",
      "\n",
      "Documentation\n",
      "* http://docs.python.org/2/using/\n",
      "* http://docs.python.org/2/tutorial/\n",
      "* http://docs.python.org/2/library/\n",
      "\n",
      "Environment\n",
      "* text editor\n",
      "* Python interpreter: base Python or enhanced IPython"
     ]
    },
    {
     "cell_type": "code",
     "collapsed": false,
     "input": [],
     "language": "python",
     "metadata": {},
     "outputs": [],
     "prompt_number": 2
    }
   ],
   "metadata": {}
  }
 ]
}
